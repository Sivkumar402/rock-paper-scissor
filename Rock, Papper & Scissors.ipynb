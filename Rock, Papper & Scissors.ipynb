{
 "cells": [
  {
   "cell_type": "markdown",
   "id": "2238eb60-cbdc-4f72-a436-e59f33beb6f0",
   "metadata": {},
   "source": [
    "Rock, Papper & Scissors"
   ]
  },
  {
   "cell_type": "code",
   "execution_count": 5,
   "id": "e12fbf32-9dd7-4960-952d-c08eaf5de858",
   "metadata": {},
   "outputs": [
    {
     "name": "stdin",
     "output_type": "stream",
     "text": [
      "Enter a choice (rock, paper, scissors):  rock\n"
     ]
    },
    {
     "name": "stdout",
     "output_type": "stream",
     "text": [
      "\n",
      "You chose rock, computer chose scissors.\n",
      "\n",
      "Rock smashes scissors! You win!\n"
     ]
    },
    {
     "name": "stdin",
     "output_type": "stream",
     "text": [
      "Play again? (y/n):  n\n"
     ]
    },
    {
     "name": "stdout",
     "output_type": "stream",
     "text": [
      "Thanks for playing!\n"
     ]
    }
   ],
   "source": [
    "import random\n",
    "possible_actions = [\"rock\", \"paper\", \"scissors\"]\n",
    "\n",
    "while True:\n",
    "    try: \n",
    "        user_action = input(\"Enter a choice (rock, paper, scissors): \")\n",
    "        \n",
    "        if user_action not in possible_actions:\n",
    "            raise ValueError(\"Invalid input! Please enter 'rock', 'paper', or 'scissors'.\")\n",
    "            \n",
    "        computer_action = random.choice(possible_actions)\n",
    "        print(f\"\\nYou chose {user_action}, computer chose {computer_action}.\\n\")\n",
    "        \n",
    "        if user_action == computer_action:\n",
    "            print(f\"Both players selected {user_action}. It's a tie!\")\n",
    "            \n",
    "        elif user_action == \"rock\":\n",
    "            if computer_action == \"scissors\":\n",
    "                print(\"Rock smashes scissors! You win!\")\n",
    "            else:\n",
    "                print(\"Paper covers rock! You lose.\")\n",
    "        elif user_action == \"paper\":\n",
    "            if computer_action == \"rock\":\n",
    "                print(\"Paper covers rock! You win!\")\n",
    "            else:\n",
    "                print(\"Scissors cuts paper! You lose.\")\n",
    "        elif user_action == \"scissors\":\n",
    "            if computer_action == \"paper\":\n",
    "                print(\"Scissors cuts paper! You win!\")\n",
    "            else:\n",
    "                print(\"Rock smashes scissors! You lose.\")\n",
    "                \n",
    "    except ValueError as e:\n",
    "        print(e)\n",
    "\n",
    "    while True:\n",
    "        try:\n",
    "            play_again = input(\"Play again? (y/n): \")\n",
    "            if play_again not in [\"y\", \"n\"]:\n",
    "                raise ValueError(\"Invalid input! Please enter 'y' or 'n'.\")\n",
    "            if play_again == \"n\":\n",
    "                print(\"Thanks for playing!\")\n",
    "            \n",
    "            \n",
    "            break\n",
    "            \n",
    "            \n",
    "                \n",
    "                \n",
    "        except ValueError as e:\n",
    "            print(e)\n",
    "\n",
    "    if play_again == \"n\":\n",
    "        break \n"
   ]
  },
  {
   "cell_type": "markdown",
   "id": "ad60a683-27a4-4c0f-b388-0009e97dfe9d",
   "metadata": {},
   "source": [
    "\n"
   ]
  },
  {
   "cell_type": "code",
   "execution_count": null,
   "id": "1eb6bf6d-1ddb-4582-b9db-ec66d27ca609",
   "metadata": {},
   "outputs": [],
   "source": [
    "\n"
   ]
  },
  {
   "cell_type": "code",
   "execution_count": null,
   "id": "b16bdf38-176c-4748-b556-c5ee9f077653",
   "metadata": {},
   "outputs": [],
   "source": []
  }
 ],
 "metadata": {
  "kernelspec": {
   "display_name": "Python 3 (ipykernel)",
   "language": "python",
   "name": "python3"
  },
  "language_info": {
   "codemirror_mode": {
    "name": "ipython",
    "version": 3
   },
   "file_extension": ".py",
   "mimetype": "text/x-python",
   "name": "python",
   "nbconvert_exporter": "python",
   "pygments_lexer": "ipython3",
   "version": "3.12.4"
  }
 },
 "nbformat": 4,
 "nbformat_minor": 5
}
